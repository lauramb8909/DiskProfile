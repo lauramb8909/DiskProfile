{
 "cells": [
  {
   "cell_type": "code",
   "execution_count": 20,
   "id": "599e1380-cc3e-4429-9756-c3fcb36ded93",
   "metadata": {},
   "outputs": [],
   "source": [
    "import numpy as np\n",
    "import scipy as sc\n",
    "import math"
   ]
  },
  {
   "cell_type": "markdown",
   "id": "9b49d371-9030-46aa-a0b5-531934f489f2",
   "metadata": {},
   "source": [
    "# Time-Dependent disk\n",
    "\n",
    "The evolution equation for the disk profile $\\Sigma(r,t)$ is:\n",
    "$$\\frac{\\partial \\Sigma}{\\partial t} = \\frac{3}{r}\\frac{\\partial}{\\partial r}\\left(r^{1/2}\\frac{\\partial}{\\partial r} [\\nu \\Sigma r^{1/2}]\\right)$$\n",
    "\n",
    "Here, we have assumed that $\\Omega =\\Omega_k= \\sqrt{GM/r^3}$\n",
    "\n",
    "## Thin disk approximation:\n",
    "\n",
    "- $$\\rho = \\frac{\\Sigma}{H}$$\n",
    "- $$ H = R\\frac{c_s}{v_\\phi}$$\n",
    "\n",
    "with $c_s^2=p/\\rho$ is the sound speed. With the Shakura \\& Sunyaev description for the viscosity ($\\nu=\\alpha c_s H$):\n",
    "$$ c_s^2 = \\frac{\\nu}{\\alpha}\\Omega$$\n",
    "\n",
    "For a radiative energy transport:\n",
    "$$F=\\frac{4\\sigma_{SB}}{3 \\kappa \\rho}\\frac{T_c^4}{H}$$\n",
    "\n",
    "should equals the viscous heat:\n",
    "\n",
    "\\begin{equation}\n",
    "\\frac{4\\sigma_{SB}}{3\\tau}T_c^4=D(R)=\\frac{9}{8}\\nu\\Sigma \\Omega^2\n",
    "\\end{equation}\n",
    "\n",
    "Asuming that the opacity has the form $\\kappa=\\kappa_o \\rho^aT^b$, the optical depht can be written as:\n",
    "\n",
    "$$ \\tau = \\kappa\\Sigma = \\kappa_o\\frac{\\Sigma^{a+1}T^b}{H^a} \\rightarrow \\nu = \\frac{32 \\sigma_{SB}}{27} \\frac{T^{4-b}}{\\kappa_0\\Sigma^{a+1}\\Omega^2}\\left(\\frac{\\nu}{\\alpha c_s}\\right)^{a}$$\n",
    "- electron - scattering:  $a = b$ and $b = 0$;\n",
    "- bound free $a=1$ and $b=7/2$\n",
    "\n",
    "Also, assuming an ideal gass law and gas preassure dominates over radiation pressure: \n",
    "$$ T = \\frac{P}{\\rho}\\frac{\\mu m_p}{\\kappa_B}=c_s^2 \\frac{\\mu m_p}{\\kappa_B}  $$\n",
    "\n",
    "Then\n",
    "\n"
   ]
  },
  {
   "cell_type": "markdown",
   "id": "68513ff4-2e67-46d4-bc1e-9dead64fad27",
   "metadata": {},
   "source": [
    "$$  \\nu^{1-a} = \\frac{32 \\sigma_{SB}}{27} \\frac{c_s^{2(4-b)-a}}{\\kappa_0\\Sigma^{a+1}\\Omega^2}\\left(\\frac{\\mu m_p}{\\kappa_B}  \\right)^{4-b}\\left(\\frac{1}{\\alpha }\\right)^{a} = \\frac{32 }{27} \\frac{\\sigma_{SB}}{\\kappa_0\\Sigma^{a+1}\\Omega^2}\\left(\\frac{\\mu m_p}{\\kappa_B}  \\right)^{4-b}\\left(\\frac{1}{\\alpha }\\right)^{a}\\left(\\frac{\\nu}{\\alpha}\\Omega\\right)^{(2(4-b)-a)/2} $$\n",
    "\n",
    "Then, the viscosity can be write as:\n",
    "$$\\nu = C r^p \\Sigma^q$$\n",
    "\n",
    "with \n",
    "- $$p=3\\left(\\frac{1}{2}-\\frac{a+1}{6-2b+a}\\right)$$\n",
    "- $$q = \\frac{2(a+2)}{6-2b+a}$$\n",
    "- $$C=\\alpha^{1+\\frac{2}{6-2b+a}}\\left(\\frac{27\\kappa_0}{32\\sigma_{SB}}\\right)^{\\frac{2}{6-2b+a}}\\left(\\frac{\\kappa_B}{\\mu m_p}\\right)^{1+\\frac{2-a}{6-2b+a}}\\left(GM\\right)^{\\frac{a+1}{6-2b+a}-\\frac{1}{2}}$$"
   ]
  },
  {
   "cell_type": "markdown",
   "id": "179168d1-586c-4020-9795-ed4c7f3af956",
   "metadata": {},
   "source": [
    "Making:\n",
    "-$$\\sigma=\\frac{\\Sigma}{\\Sigma_o}\\qquad R=\\frac{r}{r_0} \\; \\mathrm{and} \\qquad \\tau=\\frac{t}{t_0}$$\n",
    "\n",
    "The first equation is:\n",
    "The evolution equation for the disk profile $\\Sigma(r,t)$ is:\n",
    "$$\\frac{\\partial \\sigma}{\\partial \\tau} = \\frac{3}{R}\\frac{\\partial}{\\partial R}\\left(R^{1/2}\\frac{\\partial}{\\partial R} [\\hat{\\nu} \\sigma R^{1/2}]\\right)$$\n",
    "\n",
    "with $t_0=3r_0^2/4\\nu_0$.\n",
    "\n",
    "Additionally making $x=\\sqrt{r}$ and $\\sigma= SR^{-3/2}$\n",
    "\n",
    "$$\\frac{\\partial S}{\\partial \\tau} = \\frac{\\partial^2}{\\partial x^2} \\left( \\frac{S\\hat{\\nu}}{x^2}\\right)$$\n",
    "\n",
    "In general: $\\hat{\\nu}=x^{2p-3q}S^{q}$\n"
   ]
  },
  {
   "cell_type": "code",
   "execution_count": 21,
   "id": "01406b50-c7d6-45ba-befc-56f9f657d478",
   "metadata": {},
   "outputs": [],
   "source": [
    "#Constants\n",
    "Msun =1.989e33\n",
    "Rsun = 6.95e10\n",
    "G = 6.6738e-14*(10**2)**3 \n",
    "kB =1.38065e-16 \n",
    "sB = 5.67e-5\n",
    "mp = 1.67e-24\n",
    "yr = 365*24*60*60\n",
    "\n",
    "def beta(r,s):\n",
    "    return ( math.gamma(r) * math.gamma(s) ) / math.gamma(r+s) "
   ]
  },
  {
   "cell_type": "code",
   "execution_count": 105,
   "id": "7d0ff937-aa5d-4f48-87a6-46d304296f50",
   "metadata": {},
   "outputs": [],
   "source": [
    "class DiskProfile:\n",
    "    \n",
    "    def __init__(self, a, b, kappa0, Mdisk, Mc, J0, alpha, mu):\n",
    "        \n",
    "        \n",
    "        den = ( 6 - 2 * b + a )\n",
    "        den = 1.0 / den\n",
    "        \n",
    "        self.q =  2 * ( a + 2 ) * den ;\n",
    "        self.p = p = -3 * ( ( a+1 ) * den - 0.5 )\n",
    "        \n",
    "        f1 = alpha ** ( 2.0 *den + 1.0)\n",
    "        f2 = ( 27.0  *kappa0 / (32.0 * sB ) )** ( 2.0*den )\n",
    "        f4 = ( kB / ( mu * mp) ) ** ( ( 2.0 - a )*den +1.0 )\n",
    "        f3 = ( G * Mc * Msun)**( ( a+1 )*den - 0.5 )\n",
    "        self.C = f1*f2*f3*f4\n",
    "        \n",
    "        self.kappa = ( self.q / ( ( 4.0*self.q - 2.0*self.p + 4.0 )*( 5.0*self.q - 2.0*self.p + 4.0 ) ) )**( 1.0 / self.q );\n",
    "        self.GammaM = self.kappa * self.q / ( 4.0*self.q - 2.0*self.p + 4.0)\n",
    "        self.GammaJ = self.kappa*( self.q + 1.0 ) / ( 4.0*self.q - 2.0*self.p + 4.0 ) * beta( 1.0 + 1.0 / self.q , 1.0 + 1.0 / ( 4.0 - 2.0 * self.p / ( self.q + 1 ) ) )\n",
    "        \n",
    "        self.R0 = ( 1.0 / ( G * Mc * Msun ) ) * ( (self.GammaM /self.GammaJ) * ( J0 / (Mdisk*Msun) ) )**2;\n",
    "        self.Sigma0 = Mdisk*Msun / ( 4*np.pi * self.R0**2 * self.GammaM)\n",
    "        \n",
    "        self.nu0 = self.C * ( self.R0**self.p) * ( self.Sigma0**self.q ) \n",
    "        self.tau0 = ( 4.0 / 3.0 ) * self.R0**2 / self.nu0\n",
    "    \n",
    "\n",
    "        \n",
    "        #self.dtheta_dxi = []\n",
    "        \n",
    "        self.tgrid = np.arange(1.0,100.0, 0.1)\n",
    "        Nlen = len(self.tgrid)\n",
    "        self.RRout = np.zeros(Nlen)\n",
    "        \n",
    "        self.Ngrid = 100\n",
    "        self.rgrid = np.zeros(( Nlen, self.Ngrid))\n",
    "        self.SSigma = np.zeros(( Nlen, self.Ngrid))\n",
    "        \n",
    "        self._Rout()\n",
    "        self._Sigma()\n",
    "        \n",
    "    def _Rout(self):\n",
    "        i=0\n",
    "        for tt in self.tgrid:\n",
    "            self.RRout[i] = self.R0 * ( 1.0 + tt )** ( 2.0 / ( 5.0*self.q - 2.0*self.p + 4.0 ));\n",
    "            \n",
    "            Deltax = (self.RRout[i]-self.R0) / (self.Ngrid-1)\n",
    "            self.rgrid[i,:] = [ self.R0  + j*Deltax for j in range(self.Ngrid) ]\n",
    "            i+=1\n",
    "            \n",
    "    def _Sigma(self):\n",
    "        b1 = ( - 5.0 / ( 5.0*self.q - 2.0*self.p + 4.0 ) ) \n",
    "        a1 =  -self.p / ( self.q+1.0 ) \n",
    "        a2 = 2.0 + a1\n",
    "        a3 = 1.0 / self.q\n",
    "        i=0\n",
    "        for tt in self.tgrid:\n",
    "            ft = ( 1.0 + tt )**b1\n",
    "            Rt = self.RRout[i]\n",
    "            \n",
    "            for j in range(self.Ngrid):\n",
    "                self.SSigma[i,j] = self.Sigma0 * self.kappa *  ft * ( self.rgrid[i,j] / Rt )**a1 * ( 1.0 - ( self.rgrid[i,j] / Rt  )**a2 )**a3\n",
    "            \n",
    "            i+=1\n",
    "            \n",
    "        "
   ]
  },
  {
   "cell_type": "code",
   "execution_count": 106,
   "id": "38e7fe30-f4ff-4545-a25f-edfa2fd21fba",
   "metadata": {},
   "outputs": [
    {
     "name": "stderr",
     "output_type": "stream",
     "text": [
      "<ipython-input-105-e4bf6b4d156a>:63: RuntimeWarning: invalid value encountered in double_scalars\n",
      "  self.SSigma[i,j] = self.Sigma0 * self.kappa *  ft * ( self.rgrid[i,j] / Rt )**a1 * ( 1.0 - ( self.rgrid[i,j] / Rt  )**a2 )**a3\n"
     ]
    }
   ],
   "source": [
    "#Thomson scattering opacity\n",
    "disk1 = DiskProfile( 0.0, 0.0, 0.2, 1e-5,1.4, 1.03e47 , 0.1 , 0.625)"
   ]
  },
  {
   "cell_type": "code",
   "execution_count": 110,
   "id": "16def6b7-7122-4600-9532-d167727014ad",
   "metadata": {},
   "outputs": [
    {
     "data": {
      "text/plain": [
       "[<matplotlib.lines.Line2D at 0x1157970a0>]"
      ]
     },
     "execution_count": 110,
     "metadata": {},
     "output_type": "execute_result"
    },
    {
     "data": {
      "image/png": "[encoded data removed]",
      "text/plain": [
       "<Figure size 432x288 with 1 Axes>"
      ]
     },
     "metadata": {
      "needs_background": "light"
     },
     "output_type": "display_data"
    }
   ],
   "source": [
    "plt.loglog(disk1.rgrid[0,:],disk1.SSigma[0,:])"
   ]
  }
 ],
 "metadata": {
  "kernelspec": {
   "display_name": "Python 3",
   "language": "python",
   "name": "python3"
  },
  "language_info": {
   "codemirror_mode": {
    "name": "ipython",
    "version": 3
   },
   "file_extension": ".py",
   "mimetype": "text/x-python",
   "name": "python",
   "nbconvert_exporter": "python",
   "pygments_lexer": "ipython3",
   "version": "3.8.2"
  }
 },
 "nbformat": 4,
 "nbformat_minor": 5
}
