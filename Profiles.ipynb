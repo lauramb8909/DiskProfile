{
 "cells": [
  {
   "cell_type": "markdown",
   "id": "9b49d371-9030-46aa-a0b5-531934f489f2",
   "metadata": {},
   "source": [
    "# Time-Dependent disk\n",
    "\n",
    "The evolution equation for the disk profile $\\Sigma(r,t)$ is:\n",
    "$$\\frac{\\partial \\Sigma}{\\partial t} = \\frac{3}{r}\\frac{\\partial}{\\partial r}\\left(r^{1/2}\\frac{\\partial}{\\partial r} [\\nu \\Sigma r^{1/2}]\\right)$$\n",
    "\n",
    "Here, we have assumed that $\\Omega =\\Omega_k= \\sqrt{GM/r^3$\n",
    "\n",
    "## Thin disk approximation:\n",
    "\n",
    "- $$\\rho = \\frac{\\Sigma}{H}$$\n",
    "- $$ H = R\\frac{c_s}{v_\\phi}$$\n",
    "\n",
    "with $c_s^2=p/\\rho$ is the sound speed. With the Shakura \\& Sunyaev description for the viscosity ($\\nu=\\alpha c_s H$):\n",
    "$$ c_s^2 = \\frac{\\nu}{\\alpha}\\Omega$$\n",
    "\n",
    "For a radiative energy transport:\n",
    "$$F=\\frac{4\\sigma_{SB}}{3 \\kappa \\rho}\\frac{T_c^4}{H}$$\n",
    "\n",
    "should equals the viscous heat:\n",
    "\n",
    "\\begin{equation}\n",
    "\\frac{4\\sigma_{SB}}{3\\tau}T_c^4=D(R)=\\frac{9}{8}\\nu\\Sigma \\Omega^2\n",
    "\\end{equation}\n",
    "\n",
    "Asuming that the opacity has the form $\\kappa=\\kappa_o \\rho^aT^b$, the optical depht can be written as:\n",
    "\n",
    "$$ \\tau = \\kappa\\Sigma = \\kappa_o\\frac{\\Sigma^{a+1}T^b}{H^a} \\rightarrow \\nu = \\frac{32 \\sigma_{SB}}{27} \\frac{T^{4-b}}{\\kappa_0\\Sigma^{a+1}\\Omega^2}\\left(\\frac{\\nu}{\\alpha c_s}\\right)^{a}$$\n",
    "\n",
    "Also, assuming an ideal gass law and gas preassure dominates over radiation pressure: \n",
    "$$ T = \\frac{P}{\\rho}\\frac{\\mu m_p}{\\kappa_B}=c_s^2 \\frac{\\mu m_p}{\\kappa_B}  $$\n",
    "\n",
    "Then\n",
    "\n"
   ]
  },
  {
   "cell_type": "markdown",
   "id": "68513ff4-2e67-46d4-bc1e-9dead64fad27",
   "metadata": {},
   "source": [
    "$$  \\nu^{1-a} = \\frac{32 \\sigma_{SB}}{27} \\frac{c_s^{2(4-b)-a}}{\\kappa_0\\Sigma^{a+1}\\Omega^2}\\left(\\frac{\\mu m_p}{\\kappa_B}  \\right)^{4-b}\\left(\\frac{1}{\\alpha }\\right)^{a} = \\frac{32 }{27} \\frac{\\sigma_{SB}}{\\kappa_0\\Sigma^{a+1}\\Omega^2}\\left(\\frac{\\mu m_p}{\\kappa_B}  \\right)^{4-b}\\left(\\frac{1}{\\alpha }\\right)^{a}\\left(\\frac{\\nu}{\\alpha}\\Omega\\right)^{(2(4-b)-a)/2} $$\n",
    "\n",
    "Then, the viscosity can be write as:\n",
    "$$\\nu = C r^p \\Sigma^q$$\n",
    "\n",
    "with \n",
    "- $$p=3\\left(\\frac{1}{2}-\\frac{a+1}{6-2b+a}\\right)$$\n",
    "- $$q = \\frac{2(a+2)}{6-2b+a}$$\n",
    "- $$C=\\alpha^{1+\\frac{2}{6-2b+a}}\\left(\\frac{27\\kappa_0}{32\\sigma_{SB}}\\right)^{\\frac{2}{6-2b+a}}\\left(\\frac{\\kappa_B}{\\mu m_p}\\right)^{1+\\frac{2-a}{6-2b+a}}\\left(GM\\right)^{\\frac{a+1}{6-2b+a}-\\frac{1}{2}}$$"
   ]
  },
  {
   "cell_type": "markdown",
   "id": "179168d1-586c-4020-9795-ed4c7f3af956",
   "metadata": {},
   "source": [
    "Making:\n",
    "-$$\\sigma=\\frac{\\Sigma}{\\Sigma_o}\\qquad R=\\frac{r}{r_0} \\; \\mathrm{and} \\qquad \\tau=\\frac{t}{t_0}$$\n",
    "\n",
    "The first equation is:\n",
    "The evolution equation for the disk profile $\\Sigma(r,t)$ is:\n",
    "$$\\frac{\\partial \\sigma}{\\partial \\tau} = \\frac{3}{R}\\frac{\\partial}{\\partial R}\\left(R^{1/2}\\frac{\\partial}{\\partial R} [\\hat{\\nu} \\sigma R^{1/2}]\\right)$$\n",
    "\n",
    "with $t_0=3r_0^2/4\\nu_0$.\n",
    "\n",
    "Additionally making $x=\\sqrt{r}$ and $\\sigma= SR^{-3/2}$\n",
    "\n",
    "$$\\frac{\\partial S}{\\partial \\tau} = \\frac{\\partial^2}{\\partial x^2} \\left( \\frac{S\\hat{\\nu}}{x^2}\\right)$$\n",
    "\n",
    "In general: $\\hat{\\nu}=x^{2p-3q}S^{q}$\n"
   ]
  },
  {
   "cell_type": "code",
   "execution_count": null,
   "id": "01406b50-c7d6-45ba-befc-56f9f657d478",
   "metadata": {},
   "outputs": [],
   "source": []
  },
  {
   "cell_type": "code",
   "execution_count": null,
   "id": "7ba0fa7f-f9a0-4898-9551-fef151878b9c",
   "metadata": {},
   "outputs": [],
   "source": []
  }
 ],
 "metadata": {
  "kernelspec": {
   "display_name": "Python 3 (ipykernel)",
   "language": "python",
   "name": "python3"
  },
  "language_info": {
   "codemirror_mode": {
    "name": "ipython",
    "version": 3
   },
   "file_extension": ".py",
   "mimetype": "text/x-python",
   "name": "python",
   "nbconvert_exporter": "python",
   "pygments_lexer": "ipython3",
   "version": "3.11.3"
  }
 },
 "nbformat": 4,
 "nbformat_minor": 5
}
